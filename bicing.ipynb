{
 "cells": [
  {
   "cell_type": "markdown",
   "metadata": {},
   "source": [
    "***Bicing data***\n",
    "\n"
   ]
  },
  {
   "cell_type": "markdown",
   "metadata": {},
   "source": [
    "**Getting Started**\n",
    "\n",
    "Loading Python session, importing PySpark, and loading respective Spark packages. Declaring Spark Session for pulling and analyzing data:"
   ]
  },
  {
   "cell_type": "code",
   "execution_count": 223,
   "metadata": {},
   "outputs": [],
   "source": [
    "import pyspark\n",
    "\n",
    "from pyspark.sql import SparkSession\n",
    "from pyspark.sql import SQLContext\n",
    "from pyspark.sql.types import *\n",
    "from pyspark.sql.functions import *\n",
    "from pyspark import SparkContext, SparkConf\n",
    "\n",
    "import matplotlib.pyplot as plt\n",
    "import pandas as pd\n",
    "import math\n",
    "from geopy.distance import geodesic\n",
    "\n",
    "warehouseLocation = \"D:\\ThomasData\\Documents\"\n",
    "\n",
    "spark = SparkSession \\\n",
    "    .builder \\\n",
    "    .appName(\"example\") \\\n",
    "    .config(\"spark.sql.warehouse.dir\", warehouseLocation) \\\n",
    "    .enableHiveSupport() \\\n",
    "    .getOrCreate()\n"
   ]
  },
  {
   "cell_type": "markdown",
   "metadata": {},
   "source": [
    "**Loading Data**\n",
    "\n",
    "Loading in sample data as dataframe provided from email and creating view for analysis from table. This will require editing the schema to ensure our features are read in correctly:"
   ]
  },
  {
   "cell_type": "code",
   "execution_count": 259,
   "metadata": {},
   "outputs": [
    {
     "name": "stdout",
     "output_type": "stream",
     "text": [
      "Original Schema\n",
      "root\n",
      " |-- altitude: string (nullable = true)\n",
      " |-- bikes: string (nullable = true)\n",
      " |-- id: string (nullable = true)\n",
      " |-- latitude: string (nullable = true)\n",
      " |-- longitude: string (nullable = true)\n",
      " |-- nearbyStations: string (nullable = true)\n",
      " |-- slots: string (nullable = true)\n",
      " |-- status: string (nullable = true)\n",
      " |-- streetName: string (nullable = true)\n",
      " |-- streetNumber: string (nullable = true)\n",
      " |-- type: string (nullable = true)\n",
      "\n",
      "New Schema\n",
      "root\n",
      " |-- altitude: double (nullable = true)\n",
      " |-- bikes: integer (nullable = true)\n",
      " |-- id: string (nullable = true)\n",
      " |-- latitude: double (nullable = true)\n",
      " |-- longitude: double (nullable = true)\n",
      " |-- nearbyStations: array (nullable = true)\n",
      " |    |-- element: integer (containsNull = true)\n",
      " |-- slots: integer (nullable = true)\n",
      " |-- status: string (nullable = true)\n",
      " |-- streetName: string (nullable = true)\n",
      " |-- streetNumber: string (nullable = true)\n",
      " |-- type: string (nullable = true)\n",
      "\n",
      "Data Shape\n",
      "(465, 11)\n"
     ]
    }
   ],
   "source": [
    "path = 'D:\\ThomasData\\Documents\\Bicing.json'\n",
    "df = spark.read.json(path).cache()\n",
    "print(\"Original Schema\")\n",
    "df.printSchema()\n",
    "df = df.withColumn(\"altitude\",df[\"altitude\"].cast(DoubleType()))\n",
    "df = df.withColumn(\"bikes\",df[\"bikes\"].cast(IntegerType()))\n",
    "df = df.withColumn(\"latitude\",df[\"latitude\"].cast(DoubleType()))\n",
    "df = df.withColumn(\"longitude\",df[\"longitude\"].cast(DoubleType()))\n",
    "df = df.withColumn(\"slots\",df[\"slots\"].cast(IntegerType()))\n",
    "\n",
    "df = df.withColumn(\n",
    "    \"nearbyStations\",\n",
    "    split(col(\"nearbyStations\"), \",\\s*\").cast(\"array<int>\").alias(\"nearbyStations\")\n",
    ")\n",
    "\n",
    "print(\"New Schema\")\n",
    "df.printSchema()\n",
    "print(\"Data Shape\")\n",
    "print((df.count(), len(df.columns)))"
   ]
  },
  {
   "cell_type": "markdown",
   "metadata": {},
   "source": [
    "**Subsetting and Temp Views**\n",
    "\n",
    "We will now show 3 out of the 11 columns using *spark's select and show* commands. We will also create a temp view with the last dataframe:"
   ]
  },
  {
   "cell_type": "code",
   "execution_count": 104,
   "metadata": {},
   "outputs": [
    {
     "name": "stdout",
     "output_type": "stream",
     "text": [
      "+---+-----+-----+\n",
      "| id|bikes|slots|\n",
      "+---+-----+-----+\n",
      "|  1|    1|   21|\n",
      "|  2|    2|   24|\n",
      "|  3|   15|   10|\n",
      "|  4|    9|   10|\n",
      "|  5|    2|   36|\n",
      "|  6|    7|   31|\n",
      "|  7|    4|   20|\n",
      "|  8|    2|   25|\n",
      "|  9|    4|   13|\n",
      "| 10|    2|   28|\n",
      "| 11|   17|    4|\n",
      "| 12|   29|    1|\n",
      "| 13|   30|    3|\n",
      "| 14|    2|   19|\n",
      "| 15|    3|   16|\n",
      "| 16|    3|   18|\n",
      "| 17|    3|   18|\n",
      "| 18|   22|   10|\n",
      "| 19|   10|   18|\n",
      "| 20|    6|   13|\n",
      "+---+-----+-----+\n",
      "only showing top 20 rows\n",
      "\n"
     ]
    }
   ],
   "source": [
    "df.select(df['id'],df['bikes'],df['slots']).show()\n",
    "df.createOrReplaceTempView(\"bicing\")"
   ]
  },
  {
   "cell_type": "markdown",
   "metadata": {},
   "source": [
    "**Using Spark SQL** \n",
    "\n",
    "We will demonstrate the ability to select the same features leveraging *Spark SQL*:\n"
   ]
  },
  {
   "cell_type": "code",
   "execution_count": 79,
   "metadata": {},
   "outputs": [
    {
     "name": "stdout",
     "output_type": "stream",
     "text": [
      "+---+-----+-----+\n",
      "| id|bikes|slots|\n",
      "+---+-----+-----+\n",
      "|  1|    1|   21|\n",
      "|  2|    2|   24|\n",
      "|  3|   15|   10|\n",
      "|  4|    9|   10|\n",
      "|  5|    2|   36|\n",
      "|  6|    7|   31|\n",
      "|  7|    4|   20|\n",
      "|  8|    2|   25|\n",
      "|  9|    4|   13|\n",
      "| 10|    2|   28|\n",
      "| 11|   17|    4|\n",
      "| 12|   29|    1|\n",
      "| 13|   30|    3|\n",
      "| 14|    2|   19|\n",
      "| 15|    3|   16|\n",
      "| 16|    3|   18|\n",
      "| 17|    3|   18|\n",
      "| 18|   22|   10|\n",
      "| 19|   10|   18|\n",
      "| 20|    6|   13|\n",
      "+---+-----+-----+\n",
      "only showing top 20 rows\n",
      "\n",
      "+----------+-------------+\n",
      "|bike_count|   bike_types|\n",
      "+----------+-------------+\n",
      "|       259|BIKE-ELECTRIC|\n",
      "|      3903|         BIKE|\n",
      "+----------+-------------+\n",
      "\n"
     ]
    }
   ],
   "source": [
    "spark.sql(\"SELECT id, bikes, slots FROM bicing\").show()\n",
    "spark.sql(\"SELECT sum(bikes) AS bike_count, type AS bike_types FROM bicing GROUP BY bike_types\").show()"
   ]
  },
  {
   "cell_type": "markdown",
   "metadata": {},
   "source": [
    "**Using Spark SQL (cont.)**\n",
    "\n",
    "As seen above, there are  **259 electric bikes**, and **3,903 mechanical bikes**. Let's now count bike including availability throughout the system: "
   ]
  },
  {
   "cell_type": "code",
   "execution_count": 257,
   "metadata": {},
   "outputs": [
    {
     "name": "stdout",
     "output_type": "stream",
     "text": [
      "+-------------+-------------+------+\n",
      "|station_count|   bike_types|status|\n",
      "+-------------+-------------+------+\n",
      "|            1|         BIKE|   CLS|\n",
      "|          418|         BIKE|   OPN|\n",
      "|            4|BIKE-ELECTRIC|   CLS|\n",
      "|           42|BIKE-ELECTRIC|   OPN|\n",
      "+-------------+-------------+------+\n",
      "\n",
      "+----------+-------------+------+\n",
      "|bike_count|   bike_types|status|\n",
      "+----------+-------------+------+\n",
      "|         0|         BIKE|   CLS|\n",
      "|      3903|         BIKE|   OPN|\n",
      "|         0|BIKE-ELECTRIC|   CLS|\n",
      "|       259|BIKE-ELECTRIC|   OPN|\n",
      "+----------+-------------+------+\n",
      "\n"
     ]
    }
   ],
   "source": [
    "spark.sql(\"SELECT count(id) AS station_count, type AS bike_types, status FROM bicing GROUP BY bike_types, status ORDER BY bike_types\").show()\n",
    "spark.sql(\"SELECT sum(bikes) AS bike_count, type AS bike_types, status FROM bicing GROUP BY bike_types, status ORDER BY bike_types\").show()"
   ]
  },
  {
   "cell_type": "markdown",
   "metadata": {},
   "source": [
    "It appears that there is only one location that is closed which handles mechanical bikes; additionally, it appears that there are 4 locations which are closed handling electric bikes. We can also see that bikes are not counted if the location is closed. Let's move on."
   ]
  },
  {
   "cell_type": "markdown",
   "metadata": {},
   "source": [
    "**Data Visualization**\n",
    "\n",
    "Let's visualize this plot to understand fully what's going on. Pyspark is helpful, because it contains functions to map objects back to a python-based package. We can do this by declaring a new dataframe in a pandas format, then visualizing that table:"
   ]
  },
  {
   "cell_type": "code",
   "execution_count": 88,
   "metadata": {},
   "outputs": [
    {
     "data": {
      "text/plain": [
       "Text(0, 0.5, 'Bikes')"
      ]
     },
     "execution_count": 88,
     "metadata": {},
     "output_type": "execute_result"
    },
    {
     "data": {
      "image/png": "[encoded data removed]",
      "text/plain": [
       "<Figure size 432x288 with 1 Axes>"
      ]
     },
     "metadata": {
      "needs_background": "light"
     },
     "output_type": "display_data"
    }
   ],
   "source": [
    "dfP_1 = spark.sql(\"SELECT sum(bikes) AS bike_count, type AS bike_types, status FROM bicing GROUP BY bike_types, status ORDER BY bike_types\").toPandas()\n",
    "plotdata = pd.DataFrame({\n",
    "    \"Electric\": [259],\n",
    "    \"Mechanical\": [3903]\n",
    "    }, \n",
    "    index=[\"Open\"]\n",
    ")\n",
    "plotdata.plot(kind=\"bar\")\n",
    "plt.title(\"Number of Bikes by Bike Type\")\n",
    "plt.xlabel(\"Status\")\n",
    "plt.ylabel(\"Bikes\")"
   ]
  },
  {
   "cell_type": "markdown",
   "metadata": {},
   "source": [
    "Great - now we can visually see the count of electric and mechanical bikes that are available. Let's now take a look at available bike slots:"
   ]
  },
  {
   "cell_type": "code",
   "execution_count": 90,
   "metadata": {},
   "outputs": [
    {
     "name": "stdout",
     "output_type": "stream",
     "text": [
      "+----------+-------------+------+\n",
      "|slot_count|   bike_types|status|\n",
      "+----------+-------------+------+\n",
      "|        21|         BIKE|   CLS|\n",
      "|      6583|         BIKE|   OPN|\n",
      "|        46|BIKE-ELECTRIC|   CLS|\n",
      "|       281|BIKE-ELECTRIC|   OPN|\n",
      "+----------+-------------+------+\n",
      "\n"
     ]
    },
    {
     "data": {
      "text/plain": [
       "Text(0, 0.5, 'Bikes')"
      ]
     },
     "execution_count": 90,
     "metadata": {},
     "output_type": "execute_result"
    },
    {
     "data": {
      "image/png": "[encoded data removed]",
      "text/plain": [
       "<Figure size 432x288 with 1 Axes>"
      ]
     },
     "metadata": {
      "needs_background": "light"
     },
     "output_type": "display_data"
    }
   ],
   "source": [
    "spark.sql(\"SELECT sum(slots) AS slot_count, type AS bike_types, status FROM bicing GROUP BY bike_types, status ORDER BY bike_types\").show()\n",
    "dfP_2 = spark.sql(\"SELECT sum(slots) AS slot_count, type AS bike_types, status FROM bicing GROUP BY bike_types, status ORDER BY bike_types\").toPandas()\n",
    "plotdata = pd.DataFrame({\n",
    "    \"Electric\": [46, 281],\n",
    "    \"Mechanical\": [21, 6583]\n",
    "    }, \n",
    "    index=[\"Closed\", \"Open\"]\n",
    ")\n",
    "plotdata.plot(kind=\"bar\")\n",
    "plt.title(\"Number of Slots by Bike Type and Status\")\n",
    "plt.xlabel(\"Status\")\n",
    "plt.ylabel(\"Bikes\")"
   ]
  },
  {
   "cell_type": "markdown",
   "metadata": {},
   "source": [
    "**Additional SQL Commands and Loading**\n",
    "\n",
    "We will now explore additional SQL commands and creating additional tables. Let's start by honing in on a specific bicing location (*ID 1*), and counting the bikes there:"
   ]
  },
  {
   "cell_type": "code",
   "execution_count": 94,
   "metadata": {},
   "outputs": [
    {
     "name": "stdout",
     "output_type": "stream",
     "text": [
      "+----------+------+\n",
      "|bike_count|status|\n",
      "+----------+------+\n",
      "|         1|   OPN|\n",
      "+----------+------+\n",
      "\n"
     ]
    }
   ],
   "source": [
    "spark.sql(\"SELECT sum(bikes) AS bike_count, status FROM bicing WHERE id = 1 GROUP BY status\").show()"
   ]
  },
  {
   "cell_type": "markdown",
   "metadata": {},
   "source": [
    "Great. Let's now make a copy of the view bicing:"
   ]
  },
  {
   "cell_type": "code",
   "execution_count": 122,
   "metadata": {},
   "outputs": [],
   "source": [
    "df2 = df\n",
    "df2.createOrReplaceTempView(\"bicing2\")\n"
   ]
  },
  {
   "cell_type": "markdown",
   "metadata": {},
   "source": [
    "Now that we've made a copy, let's verify that number of bikes matches the original dataframe. We will also make sure that *ID 1* has the same amount of bikes in our copy:"
   ]
  },
  {
   "cell_type": "code",
   "execution_count": 123,
   "metadata": {},
   "outputs": [
    {
     "name": "stdout",
     "output_type": "stream",
     "text": [
      "+----------+\n",
      "|sum(bikes)|\n",
      "+----------+\n",
      "|      4162|\n",
      "+----------+\n",
      "\n",
      "+----------+\n",
      "|sum(bikes)|\n",
      "+----------+\n",
      "|      4162|\n",
      "+----------+\n",
      "\n",
      "+----------+\n",
      "|sum(bikes)|\n",
      "+----------+\n",
      "|         1|\n",
      "+----------+\n",
      "\n"
     ]
    }
   ],
   "source": [
    "spark.sql(\"SELECT sum(bikes) FROM bicing\").show()\n",
    "spark.sql(\"SELECT sum(bikes) FROM bicing2\").show()\n",
    "spark.sql(\"SELECT sum(bikes) FROM bicing2 WHERE id = 1\").show()"
   ]
  },
  {
   "cell_type": "markdown",
   "metadata": {},
   "source": [
    "We're good to go here. Let's try updating the *bicing2* table now by using a similar method (using some of Spark's functions) - we will update the location with the *ID 1* so it now has 11 bikes:"
   ]
  },
  {
   "cell_type": "code",
   "execution_count": 260,
   "metadata": {},
   "outputs": [
    {
     "name": "stdout",
     "output_type": "stream",
     "text": [
      "+---+-----+\n",
      "| id|bikes|\n",
      "+---+-----+\n",
      "|  1|   11|\n",
      "|  2|    2|\n",
      "|  3|   15|\n",
      "|  4|    9|\n",
      "|  5|    2|\n",
      "|  6|    7|\n",
      "|  7|    4|\n",
      "|  8|    2|\n",
      "|  9|    4|\n",
      "| 10|    2|\n",
      "| 11|   17|\n",
      "| 12|   29|\n",
      "| 13|   30|\n",
      "| 14|    2|\n",
      "| 15|    3|\n",
      "| 16|    3|\n",
      "| 17|    3|\n",
      "| 18|   22|\n",
      "| 19|   10|\n",
      "| 20|    6|\n",
      "+---+-----+\n",
      "only showing top 20 rows\n",
      "\n"
     ]
    }
   ],
   "source": [
    "df2=df2.withColumn(\"bikes\", when(df2[\"id\"] == 1, 11).otherwise(df2[\"bikes\"]))\n",
    "df2.select(df2['id'],df2['bikes']).show()"
   ]
  },
  {
   "cell_type": "markdown",
   "metadata": {},
   "source": [
    "Excellent - now the location with the *ID* of *1* now reflects 11 bikes. Let's try adding 1 additional bike to all *available (or open) locations*. We could technically add bikes to stations indicated as **CLS**; however, I think that would violate our business rules (and realistically wouldn't be a smart allocation of resources):"
   ]
  },
  {
   "cell_type": "code",
   "execution_count": 261,
   "metadata": {},
   "outputs": [
    {
     "name": "stdout",
     "output_type": "stream",
     "text": [
      "+---+-----------+\n",
      "| id|bikesAddOne|\n",
      "+---+-----------+\n",
      "|  1|         12|\n",
      "|  2|          3|\n",
      "|  3|         16|\n",
      "|  4|         10|\n",
      "|  5|          3|\n",
      "|  6|          8|\n",
      "|  7|          5|\n",
      "|  8|          3|\n",
      "|  9|          5|\n",
      "| 10|          3|\n",
      "| 11|         18|\n",
      "| 12|         30|\n",
      "| 13|         31|\n",
      "| 14|          3|\n",
      "| 15|          4|\n",
      "| 16|          4|\n",
      "| 17|          4|\n",
      "| 18|         23|\n",
      "| 19|         11|\n",
      "| 20|          7|\n",
      "+---+-----------+\n",
      "only showing top 20 rows\n",
      "\n"
     ]
    }
   ],
   "source": [
    "df2=df2.withColumn(\"bikesAddOne\", when(df2[\"status\"] == \"OPN\", df2[\"bikes\"] + 1).otherwise(df2[\"bikes\"]))\n",
    "df2.select(df2[\"id\"], df2[\"bikesAddOne\"]).show()\n",
    "df2.createOrReplaceTempView(\"bicing2\")"
   ]
  },
  {
   "cell_type": "markdown",
   "metadata": {},
   "source": [
    "Observing the above - our new dataframe has an additional column with one added to each *bikes value* to all available stations. If we wanted to, we could techinically drop the original column in *bicing2* **bikes** by implementing the **df2.drop('bikes').collect()** command - using Apache Spark. This would then only leave us with our new column; for this example, I will skip this step. Let's go ahead and verify that our newly created column reflects the difference that we added when compared to its original dataframe **bicing**.\n",
    "\n",
    "Recalling from our past query, there are **460** open stations. We also added replaced the first station's *1 bike value to 11*. So all in all, we should have **470 extra bikes** in comparison."
   ]
  },
  {
   "cell_type": "code",
   "execution_count": 154,
   "metadata": {},
   "outputs": [
    {
     "data": {
      "text/plain": [
       "470"
      ]
     },
     "execution_count": 154,
     "metadata": {},
     "output_type": "execute_result"
    }
   ],
   "source": [
    "x=spark.sql(\"SELECT sum(bikesAddOne) from bicing2\").toPandas()\n",
    "y=spark.sql(\"SELECT sum(bikes) from bicing\").toPandas()\n",
    "x.iloc[0,0] - y.iloc[0,0]"
   ]
  },
  {
   "cell_type": "markdown",
   "metadata": {},
   "source": [
    "Awesome! Now that we've verified our data transformation, let's continue with one more SQL task:"
   ]
  },
  {
   "cell_type": "code",
   "execution_count": 156,
   "metadata": {},
   "outputs": [
    {
     "name": "stdout",
     "output_type": "stream",
     "text": [
      "+---+-----+\n",
      "| id|bikes|\n",
      "+---+-----+\n",
      "|  1|   11|\n",
      "|  2|    2|\n",
      "|  3|   15|\n",
      "|  4|    9|\n",
      "|  5|    2|\n",
      "|  6|    7|\n",
      "|  7|    4|\n",
      "|  8|    2|\n",
      "|  9|    4|\n",
      "| 10|    2|\n",
      "| 11|   17|\n",
      "| 12|   29|\n",
      "| 13|   30|\n",
      "| 14|    2|\n",
      "| 15|    3|\n",
      "| 16|    3|\n",
      "| 17|    3|\n",
      "| 18|   22|\n",
      "| 19|   10|\n",
      "| 20|    6|\n",
      "+---+-----+\n",
      "only showing top 20 rows\n",
      "\n"
     ]
    }
   ],
   "source": [
    "df3 = df\n",
    "df3=df3.withColumn(\"bikes\", when(df3[\"id\"] == 1, df3[\"bikes\"] + 10).otherwise(df3[\"bikes\"]))\n",
    "df3.select(df3['id'], df3['bikes']).show()"
   ]
  },
  {
   "cell_type": "markdown",
   "metadata": {},
   "source": [
    "We've conducted the same task as when we updated this value in df2; however, *we've changed the operation*."
   ]
  },
  {
   "cell_type": "markdown",
   "metadata": {},
   "source": [
    "**Additional Analysis**\n",
    "\n",
    "After observing this dataframe, I want to further explore the *nearbyStations* column. Let's go through an exercise of verifying this array of nearby stations. This can be done by conducting the following:\n",
    "\n",
    "-Starting with location having the *ID of 1*, let's seperate the array containing all of its nearby locations (this would include stations: *24, 369, 387, and 426*)\n",
    "\n",
    "-Next, we can fetch the *latitude and longitude* of each location, and then compute the **Cartesian Distance** using Python's **GeoPy: geodesic** from each stations' location to *ID 1*\n",
    "\n",
    "-If the 4 smallest **Location Distances** are matched to the nearby locations, I will be satisfied with the column\n"
   ]
  },
  {
   "cell_type": "code",
   "execution_count": 243,
   "metadata": {},
   "outputs": [
    {
     "name": "stdout",
     "output_type": "stream",
     "text": [
      "        nearbyStations\n",
      "0  [24, 369, 387, 426] 41.397952 2.180042    altitude\n",
      "0      21.0 (41.397952, 2.180042)\n"
     ]
    },
    {
     "data": {
      "text/html": [
       "<div>\n",
       "<style scoped>\n",
       "    .dataframe tbody tr th:only-of-type {\n",
       "        vertical-align: middle;\n",
       "    }\n",
       "\n",
       "    .dataframe tbody tr th {\n",
       "        vertical-align: top;\n",
       "    }\n",
       "\n",
       "    .dataframe thead th {\n",
       "        text-align: right;\n",
       "    }\n",
       "</style>\n",
       "<table border=\"1\" class=\"dataframe\">\n",
       "  <thead>\n",
       "    <tr style=\"text-align: right;\">\n",
       "      <th></th>\n",
       "      <th>id</th>\n",
       "      <th>latitude</th>\n",
       "      <th>longitude</th>\n",
       "      <th>altitude</th>\n",
       "    </tr>\n",
       "  </thead>\n",
       "  <tbody>\n",
       "    <tr>\n",
       "      <th>0</th>\n",
       "      <td>1</td>\n",
       "      <td>41.397952</td>\n",
       "      <td>2.180042</td>\n",
       "      <td>21.0</td>\n",
       "    </tr>\n",
       "    <tr>\n",
       "      <th>1</th>\n",
       "      <td>2</td>\n",
       "      <td>41.395530</td>\n",
       "      <td>2.177060</td>\n",
       "      <td>21.0</td>\n",
       "    </tr>\n",
       "    <tr>\n",
       "      <th>2</th>\n",
       "      <td>3</td>\n",
       "      <td>41.393699</td>\n",
       "      <td>2.181137</td>\n",
       "      <td>21.0</td>\n",
       "    </tr>\n",
       "    <tr>\n",
       "      <th>3</th>\n",
       "      <td>4</td>\n",
       "      <td>41.393470</td>\n",
       "      <td>2.181490</td>\n",
       "      <td>21.0</td>\n",
       "    </tr>\n",
       "    <tr>\n",
       "      <th>4</th>\n",
       "      <td>5</td>\n",
       "      <td>41.391075</td>\n",
       "      <td>2.180223</td>\n",
       "      <td>16.0</td>\n",
       "    </tr>\n",
       "  </tbody>\n",
       "</table>\n",
       "</div>"
      ],
      "text/plain": [
       "  id   latitude  longitude  altitude\n",
       "0  1  41.397952   2.180042      21.0\n",
       "1  2  41.395530   2.177060      21.0\n",
       "2  3  41.393699   2.181137      21.0\n",
       "3  4  41.393470   2.181490      21.0\n",
       "4  5  41.391075   2.180223      16.0"
      ]
     },
     "execution_count": 243,
     "metadata": {},
     "output_type": "execute_result"
    }
   ],
   "source": [
    "nearby1 = spark.sql(\"SELECT nearbyStations FROM bicing WHERE id = 1\").toPandas()\n",
    "lat1, lon1, alt1 = spark.sql(\"SELECT latitude FROM bicing WHERE id = 1\").toPandas(), spark.sql(\"SELECT longitude FROM bicing WHERE id = 1\").toPandas(), spark.sql(\"SELECT altitude FROM bicing WHERE id = 1\").toPandas()\n",
    "allCoordinates = spark.sql(\"SELECT id, latitude, longitude, altitude FROM bicing\").toPandas()\n",
    "\n",
    "nearby1_ = nearby1.iloc[0,0]\n",
    "lat1_ = lat1.iloc[0,0]\n",
    "lon1_ = lon1.iloc[0,0]\n",
    "alt1_ = alt1.iloc[0,0]\n",
    "id1_ = (lat1_,lon1_)\n",
    "\n",
    "print(nearby1, lat1_, lon1_, alt1, id1_)\n",
    "allCoordinates.head()"
   ]
  },
  {
   "cell_type": "code",
   "execution_count": 244,
   "metadata": {},
   "outputs": [],
   "source": [
    "distances = [0] * (len(allCoordinates) - 1)\n",
    "\n",
    "for i in range(len(allCoordinates)-1):\n",
    "    lat_temp = allCoordinates.loc[i+1,'latitude']\n",
    "    lon_temp = allCoordinates.loc[i+1,'longitude']\n",
    "    new_id = (lat_temp, lon_temp)\n",
    "    distances[i] = geodesic(id1_, new_id).meters\n",
    "    \n",
    "distances.insert(0,0)"
   ]
  },
  {
   "cell_type": "code",
   "execution_count": 245,
   "metadata": {},
   "outputs": [],
   "source": [
    "distances[0:9]\n",
    "df_distances = pd.DataFrame({'Distances':distances})\n",
    "\n",
    "allCoordinates.reset_index(level=0, inplace=True)\n",
    "df_distances.reset_index(level=0, inplace=True)\n",
    "df_all = allCoordinates.merge(df_distances, on='index', indicator = True)"
   ]
  },
  {
   "cell_type": "code",
   "execution_count": 246,
   "metadata": {},
   "outputs": [
    {
     "data": {
      "text/html": [
       "<div>\n",
       "<style scoped>\n",
       "    .dataframe tbody tr th:only-of-type {\n",
       "        vertical-align: middle;\n",
       "    }\n",
       "\n",
       "    .dataframe tbody tr th {\n",
       "        vertical-align: top;\n",
       "    }\n",
       "\n",
       "    .dataframe thead th {\n",
       "        text-align: right;\n",
       "    }\n",
       "</style>\n",
       "<table border=\"1\" class=\"dataframe\">\n",
       "  <thead>\n",
       "    <tr style=\"text-align: right;\">\n",
       "      <th></th>\n",
       "      <th>index</th>\n",
       "      <th>id</th>\n",
       "      <th>latitude</th>\n",
       "      <th>longitude</th>\n",
       "      <th>altitude</th>\n",
       "      <th>Distances</th>\n",
       "      <th>_merge</th>\n",
       "    </tr>\n",
       "  </thead>\n",
       "  <tbody>\n",
       "    <tr>\n",
       "      <th>0</th>\n",
       "      <td>0</td>\n",
       "      <td>1</td>\n",
       "      <td>41.397952</td>\n",
       "      <td>2.180042</td>\n",
       "      <td>21.0</td>\n",
       "      <td>0.000000</td>\n",
       "      <td>both</td>\n",
       "    </tr>\n",
       "    <tr>\n",
       "      <th>23</th>\n",
       "      <td>23</td>\n",
       "      <td>24</td>\n",
       "      <td>41.399982</td>\n",
       "      <td>2.180319</td>\n",
       "      <td>21.0</td>\n",
       "      <td>226.641988</td>\n",
       "      <td>both</td>\n",
       "    </tr>\n",
       "    <tr>\n",
       "      <th>416</th>\n",
       "      <td>416</td>\n",
       "      <td>426</td>\n",
       "      <td>41.398305</td>\n",
       "      <td>2.183023</td>\n",
       "      <td>21.0</td>\n",
       "      <td>252.355670</td>\n",
       "      <td>both</td>\n",
       "    </tr>\n",
       "    <tr>\n",
       "      <th>382</th>\n",
       "      <td>382</td>\n",
       "      <td>387</td>\n",
       "      <td>41.395796</td>\n",
       "      <td>2.178784</td>\n",
       "      <td>21.0</td>\n",
       "      <td>261.541078</td>\n",
       "      <td>both</td>\n",
       "    </tr>\n",
       "    <tr>\n",
       "      <th>116</th>\n",
       "      <td>116</td>\n",
       "      <td>119</td>\n",
       "      <td>41.396632</td>\n",
       "      <td>2.182802</td>\n",
       "      <td>21.0</td>\n",
       "      <td>273.434923</td>\n",
       "      <td>both</td>\n",
       "    </tr>\n",
       "  </tbody>\n",
       "</table>\n",
       "</div>"
      ],
      "text/plain": [
       "     index   id   latitude  longitude  altitude   Distances _merge\n",
       "0        0    1  41.397952   2.180042      21.0    0.000000   both\n",
       "23      23   24  41.399982   2.180319      21.0  226.641988   both\n",
       "416    416  426  41.398305   2.183023      21.0  252.355670   both\n",
       "382    382  387  41.395796   2.178784      21.0  261.541078   both\n",
       "116    116  119  41.396632   2.182802      21.0  273.434923   both"
      ]
     },
     "execution_count": 246,
     "metadata": {},
     "output_type": "execute_result"
    }
   ],
   "source": [
    "df_all = df_all.sort_values('Distances')\n",
    "df_all.head()\n"
   ]
  },
  {
   "cell_type": "markdown",
   "metadata": {},
   "source": [
    "It appears that the 4 shortest distances from the station having ID 1 are: **24, 387, 426, and 119**. These all match with our original *nearbyStation* vector's values *except for one*. Let's check to see what distance  the outstanding point is (*id = 369*):"
   ]
  },
  {
   "cell_type": "code",
   "execution_count": 256,
   "metadata": {},
   "outputs": [
    {
     "name": "stdout",
     "output_type": "stream",
     "text": [
      "     index   id   latitude  longitude  altitude   Distances _merge\n",
      "365    365  369  41.400828     2.1786      28.0  341.417942   both\n"
     ]
    }
   ],
   "source": [
    "print(df_all[df_all['id']=='369'])\n"
   ]
  },
  {
   "cell_type": "markdown",
   "metadata": {},
   "source": [
    "Interesting... this geodesic distance is about **70m** greater than *ID 119*. There must be some other business rules applied to dictate the most \"nearby\" location. That could be calculated in other manners such as average time of travel, or also impacted by street distance / congestion. Either way, this column did resemble 3 out of 4 of the closest locations; thus, I think we can *somewhat verify* this column!\n"
   ]
  },
  {
   "cell_type": "markdown",
   "metadata": {},
   "source": [
    "**Analysis Conclusion**\n",
    "\n",
    "We've loaded, explored, cleaned, and tested a Bicing location dataset using Apache Spark via PySpark. We've understood a couple of key points:\n",
    "\n",
    "\n",
    "-Closed locations do not have any available bikes; however, they do have available slots\n",
    "\n",
    "-There are a lot more mechanical bikes available than there are electric bikes\n",
    "\n",
    "-The nearby location column may not resemble the absolute cartesian distance from two points on the earth, but it very well could resemble the optimal path of travel with street traffic included."
   ]
  },
  {
   "cell_type": "markdown",
   "metadata": {},
   "source": [
    "*Kyle Thomas; Dec 2020*"
   ]
  },
  {
   "cell_type": "code",
   "execution_count": null,
   "metadata": {},
   "outputs": [],
   "source": []
  }
 ],
 "metadata": {
  "kernelspec": {
   "display_name": "Python 3",
   "language": "python",
   "name": "python3"
  },
  "language_info": {
   "codemirror_mode": {
    "name": "ipython",
    "version": 3
   },
   "file_extension": ".py",
   "mimetype": "text/x-python",
   "name": "python",
   "nbconvert_exporter": "python",
   "pygments_lexer": "ipython3",
   "version": "3.9.1"
  }
 },
 "nbformat": 4,
 "nbformat_minor": 4
}
